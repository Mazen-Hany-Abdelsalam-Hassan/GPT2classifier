{
 "cells": [
  {
   "cell_type": "code",
   "execution_count": 1,
   "id": "44fcb19e-19dc-48a0-8b39-41c922e43aeb",
   "metadata": {},
   "outputs": [],
   "source": [
    "import os \n",
    "import sys\n",
    "import pandas as pd\n",
    "sys.path.append('src')\n",
    "import torch"
   ]
  },
  {
   "cell_type": "code",
   "execution_count": 5,
   "id": "75853469-9c1a-4dcb-97a1-03b30155fae8",
   "metadata": {},
   "outputs": [],
   "source": [
    "from src import  GPT_CONFIG_124M   , GPTModel ,split_data ,BASE_MODEL_DIR, ClassificationModel ,MODEL_DIR"
   ]
  },
  {
   "cell_type": "code",
   "execution_count": 3,
   "id": "324f6497-d359-4657-96dd-f061d14d9c91",
   "metadata": {},
   "outputs": [],
   "source": [
    "df= pd.read_csv('IMDB Dataset.csv')"
   ]
  },
  {
   "cell_type": "code",
   "execution_count": 4,
   "id": "b5b13c0c-af5d-4bcf-a370-61a1b2a83710",
   "metadata": {},
   "outputs": [],
   "source": [
    "split_data(df)"
   ]
  },
  {
   "cell_type": "code",
   "execution_count": 12,
   "id": "f77b734b-04d4-4f0c-969e-99bb941ec5ad",
   "metadata": {},
   "outputs": [],
   "source": [
    "model= GPTModel(GPT_CONFIG_124M)"
   ]
  },
  {
   "cell_type": "code",
   "execution_count": 14,
   "id": "3cfabf02-254a-4d97-8652-250f3d43f14b",
   "metadata": {},
   "outputs": [],
   "source": [
    "os.makedirs(BASE_MODEL_DIR)"
   ]
  },
  {
   "cell_type": "code",
   "execution_count": 21,
   "id": "52e6f07c-2927-476a-8e5c-520528048ef0",
   "metadata": {},
   "outputs": [],
   "source": [
    "a = os.path.join(BASE_MODEL_DIR, MODEL_DIR)"
   ]
  },
  {
   "cell_type": "code",
   "execution_count": 15,
   "id": "bf307193-f4fa-49dc-bfbd-2d029f75e583",
   "metadata": {},
   "outputs": [],
   "source": [
    "torch.save( model.state_dict(), os.path.join(BASE_MODEL_DIR, MODEL_DIR))"
   ]
  },
  {
   "cell_type": "code",
   "execution_count": 22,
   "id": "cb25644b-bb7a-4d17-8bec-c2b2f1b0b91d",
   "metadata": {
    "scrolled": true
   },
   "outputs": [],
   "source": [
    "weights = torch.load(a ,weights_only= True)"
   ]
  },
  {
   "cell_type": "code",
   "execution_count": 31,
   "id": "ca6d0f13-a489-4247-a391-ef5e1ae9ca77",
   "metadata": {},
   "outputs": [],
   "source": [
    "def a(ass:dict):\n",
    "    print(ass)"
   ]
  },
  {
   "cell_type": "code",
   "execution_count": 32,
   "id": "2665ddee-2f36-4950-9ec3-f65ce002e46f",
   "metadata": {},
   "outputs": [
    {
     "name": "stdout",
     "output_type": "stream",
     "text": [
      "{'vocab_size': 50257, 'context_length': 1024, 'emb_dim': 768, 'n_heads': 12, 'n_layers': 12, 'drop_rate': 0.0, 'qkv_bias': True}\n"
     ]
    }
   ],
   "source": [
    "a(GPT_CONFIG_124M)"
   ]
  },
  {
   "cell_type": "code",
   "execution_count": null,
   "id": "ae178161-5f10-4384-b061-400673c837bc",
   "metadata": {},
   "outputs": [],
   "source": []
  }
 ],
 "metadata": {
  "kernelspec": {
   "display_name": "Python 3 (ipykernel)",
   "language": "python",
   "name": "python3"
  },
  "language_info": {
   "codemirror_mode": {
    "name": "ipython",
    "version": 3
   },
   "file_extension": ".py",
   "mimetype": "text/x-python",
   "name": "python",
   "nbconvert_exporter": "python",
   "pygments_lexer": "ipython3",
   "version": "3.12.8"
  }
 },
 "nbformat": 4,
 "nbformat_minor": 5
}
